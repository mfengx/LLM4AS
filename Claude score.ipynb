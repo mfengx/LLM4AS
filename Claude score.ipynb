{
 "cells": [
  {
   "cell_type": "code",
   "execution_count": 1,
   "id": "a64945f6-52cc-45c0-b4ac-6c5961fba42f",
   "metadata": {},
   "outputs": [],
   "source": [
    "import anthropic\n",
    "from anthropic.types.messages.batch_create_params import Request\n",
    "from anthropic.types.message_create_params import MessageCreateParamsNonStreaming\n",
    "import pandas as pd\n",
    "import numpy as np\n",
    "import re\n",
    "from collections import Counter\n",
    "import random\n",
    "import math\n",
    "from sklearn.metrics import cohen_kappa_score\n",
    "from sklearn.metrics import accuracy_score\n",
    "from sklearn.metrics import root_mean_squared_error\n",
    "from sklearn.metrics import classification_report"
   ]
  },
  {
   "cell_type": "code",
   "execution_count": 2,
   "id": "178d8cfd-51d4-4e56-bf6f-460ce4d536e8",
   "metadata": {},
   "outputs": [],
   "source": [
    "def extract_first_number(s):\n",
    "    \"\"\"\n",
    "    Extracts the first integer from a string, ignoring decimals.\n",
    "\n",
    "    Args:\n",
    "        s: The input string.\n",
    "\n",
    "    Returns:\n",
    "        The first integer found in the string, or None if no integer is found.\n",
    "    \"\"\"\n",
    "    match = re.search(r'\\d+', s)  # Matches only integers\n",
    "    if match:\n",
    "        return int(match.group())\n",
    "    else:\n",
    "        return None\n",
    "\n",
    "\n",
    "## Find modes ###\n",
    "def find_mode(data):\n",
    "    \"\"\"\n",
    "    Finds the mode(s) of a list or pandas Series.\n",
    "    \n",
    "    Args:\n",
    "        data: A list or pandas Series of values.\n",
    "    \n",
    "    Returns:\n",
    "        A single mode if there are multiple modes;\n",
    "        otherwise returns the mode(s) of the input data.\n",
    "        Returns an empty list if the input is empty.\n",
    "    \"\"\"\n",
    "    counts = Counter(data)\n",
    "    max_count = max(counts.values())\n",
    "    modes = [key for key, value in counts.items() if value == max_count]\n",
    "    \n",
    "    # If there are multiple modes, choose one randomly\n",
    "    if len(modes) > 1:\n",
    "        return random.choice(modes)\n",
    "    \n",
    "    return modes[0]\n"
   ]
  },
  {
   "cell_type": "code",
   "execution_count": 10,
   "id": "9a88a52e-cadf-4ebc-981f-e8883b321093",
   "metadata": {},
   "outputs": [
    {
     "name": "stderr",
     "output_type": "stream",
     "text": [
      "C:\\Users\\mingf\\AppData\\Local\\Temp\\ipykernel_59608\\1943850481.py:9: FutureWarning: Downcasting behavior in `replace` is deprecated and will be removed in a future version. To retain the old behavior, explicitly call `result.infer_objects(copy=False)`. To opt-in to the future behavior, set `pd.set_option('future.no_silent_downcasting', True)`\n",
      "  resp.replace({'Final': {'0b': 0}},inplace=True)\n"
     ]
    }
   ],
   "source": [
    "path = 'C:/Users/\n",
    "role = \"You are a helpful rater in science education. You should rate students' responses based on the scoring guide and only return the scores.\\n\"\n",
    "\n",
    "item='VR1'\n",
    "scoring_prompt = pd.read_csv(path+'scoring prompts.csv')\n",
    "scoring_prompt = scoring_prompt.loc[scoring_prompt.Item == item,'Prompt'].values[0]\n",
    "resp = pd.read_excel(path+'All Graded Data from LPS3 2022_ Undergraduates.xlsx',sheet_name=item)\n",
    "resp.replace({'Final': {'0a': 0}},inplace=True)\n",
    "resp.replace({'Final': {'0b': 0}},inplace=True)\n",
    "resp['Final']=resp['Final'].astype(int)\n",
    "\n",
    "nrep=5"
   ]
  },
  {
   "cell_type": "code",
   "execution_count": 4,
   "id": "eb1fbc46-60d9-435d-b5ed-5c0dfa352191",
   "metadata": {},
   "outputs": [],
   "source": [
    "cl_client = anthropic.Anthropic(api_key=\"input your own key\")"
   ]
  },
  {
   "cell_type": "code",
   "execution_count": null,
   "id": "14bd5d73-ca84-4e09-8846-f1f740298fbd",
   "metadata": {},
   "outputs": [],
   "source": [
    "# Temperature =0"
   ]
  },
  {
   "cell_type": "code",
   "execution_count": 11,
   "id": "49a52aca-c8e8-4eb4-9fd7-1bfcd71bbe23",
   "metadata": {},
   "outputs": [],
   "source": [
    "requests = []\n",
    "tempr = 0\n",
    "for index, row in resp.iterrows():\n",
    "    #print(index)\n",
    "    scoring_prompt_resp = scoring_prompt+'\\n'+'RESPONSE:'+str(row[item])+'. ->'\n",
    "    requests.append(\n",
    "        Request(\n",
    "            custom_id=\"item_\"+item+\"resp_\"+str(index),\n",
    "            params=MessageCreateParamsNonStreaming(\n",
    "            model=\"claude-3-7-sonnet-20250219\",\n",
    "            temperature=tempr,\n",
    "            max_tokens=1024,\n",
    "            system=role,\n",
    "            messages=[\n",
    "                            {\"role\": \"user\", \"content\": scoring_prompt_resp}]\n",
    "                )\n",
    "            )\n",
    "        )\n",
    "            "
   ]
  },
  {
   "cell_type": "code",
   "execution_count": 12,
   "id": "ff916e71-682c-4c94-a5e8-9bf5f696772f",
   "metadata": {},
   "outputs": [],
   "source": [
    "batch1 = cl_client.messages.batches.create(requests=requests)\n",
    "batch2 = cl_client.messages.batches.create(requests=requests)\n",
    "batch3 = cl_client.messages.batches.create(requests=requests)\n",
    "batch4 = cl_client.messages.batches.create(requests=requests)\n",
    "batch5 = cl_client.messages.batches.create(requests=requests)"
   ]
  },
  {
   "cell_type": "code",
   "execution_count": 13,
   "id": "93dae853-602f-47ef-8f21-913203de4132",
   "metadata": {},
   "outputs": [],
   "source": [
    "rrsspp1 = cl_client.messages.batches.results(batch1.id)\n",
    "rrsspp2 = cl_client.messages.batches.results(batch2.id)\n",
    "rrsspp3 = cl_client.messages.batches.results(batch3.id)\n",
    "rrsspp4 = cl_client.messages.batches.results(batch4.id)\n",
    "rrsspp5 = cl_client.messages.batches.results(batch5.id)\n",
    "\n",
    "output0 = [ot.to_dict()['result']['message']['content'][0]['text'] for ot in rrsspp1]\n",
    "output1 = [ot.to_dict()['result']['message']['content'][0]['text'] for ot in rrsspp2]\n",
    "output2 = [ot.to_dict()['result']['message']['content'][0]['text'] for ot in rrsspp3]\n",
    "output3 = [ot.to_dict()['result']['message']['content'][0]['text'] for ot in rrsspp4]\n",
    "output4 = [ot.to_dict()['result']['message']['content'][0]['text'] for ot in rrsspp5]"
   ]
  },
  {
   "cell_type": "code",
   "execution_count": 14,
   "id": "f13237c9-df54-4f1b-bd86-3d23784281da",
   "metadata": {},
   "outputs": [],
   "source": [
    "scD_0 = pd.DataFrame({'output_0':output0, 'output_1':output1,'output_2':output2,'output_3':output3,'output_4':output4})\n",
    "\n",
    "scD_0 = pd.concat([scD_0,scD_0.apply(lambda col: [extract_first_number(i) for i in col]).\\\n",
    "rename(columns=dict(zip(['output_'+str(i )for i in range(nrep)],['score_'+str(i )for i in range(nrep)])))], axis=1)\n",
    "\n",
    "scD_0['mode'] = scD_0.iloc[:,nrep:(2*nrep)].apply(find_mode,axis=1)\n",
    "\n",
    "scD_0.to_csv(path+'results/'+item+'_claude_tempr'+str(0)+'.csv')"
   ]
  },
  {
   "cell_type": "code",
   "execution_count": 18,
   "id": "2252f685-5564-40e6-8a42-5f64309e166e",
   "metadata": {},
   "outputs": [],
   "source": [
    "scD_t = pd.concat([scD_0,resp.Final],axis=1).dropna()"
   ]
  },
  {
   "cell_type": "code",
   "execution_count": 19,
   "id": "5853890e-a57f-4155-b02b-2ba318ac097a",
   "metadata": {},
   "outputs": [
    {
     "name": "stdout",
     "output_type": "stream",
     "text": [
      "QWK: 0.6220900084604678\n",
      "              precision    recall  f1-score   support\n",
      "\n",
      "           0       0.89      0.94      0.91        66\n",
      "           1       0.94      0.68      0.79       297\n",
      "           2       0.50      0.75      0.60        91\n",
      "           3       0.00      0.00      0.00         0\n",
      "\n",
      "    accuracy                           0.73       454\n",
      "   macro avg       0.58      0.59      0.57       454\n",
      "weighted avg       0.84      0.73      0.77       454\n",
      "\n"
     ]
    },
    {
     "name": "stderr",
     "output_type": "stream",
     "text": [
      "C:\\Users\\mingf\\anaconda3\\envs\\pytorch\\lib\\site-packages\\sklearn\\metrics\\_classification.py:1509: UndefinedMetricWarning: Recall is ill-defined and being set to 0.0 in labels with no true samples. Use `zero_division` parameter to control this behavior.\n",
      "  _warn_prf(average, modifier, f\"{metric.capitalize()} is\", len(result))\n",
      "C:\\Users\\mingf\\anaconda3\\envs\\pytorch\\lib\\site-packages\\sklearn\\metrics\\_classification.py:1509: UndefinedMetricWarning: Recall is ill-defined and being set to 0.0 in labels with no true samples. Use `zero_division` parameter to control this behavior.\n",
      "  _warn_prf(average, modifier, f\"{metric.capitalize()} is\", len(result))\n",
      "C:\\Users\\mingf\\anaconda3\\envs\\pytorch\\lib\\site-packages\\sklearn\\metrics\\_classification.py:1509: UndefinedMetricWarning: Recall is ill-defined and being set to 0.0 in labels with no true samples. Use `zero_division` parameter to control this behavior.\n",
      "  _warn_prf(average, modifier, f\"{metric.capitalize()} is\", len(result))\n"
     ]
    }
   ],
   "source": [
    "print(f\"QWK: {cohen_kappa_score(scD_t['mode'],scD_t['Final'],weights='quadratic')}\")\n",
    "print(classification_report(scD_t['mode'],scD_t['Final']))"
   ]
  },
  {
   "cell_type": "markdown",
   "id": "769465db-4908-45db-859e-5ab8729a08e7",
   "metadata": {},
   "source": [
    "## Temperature =1"
   ]
  },
  {
   "cell_type": "code",
   "execution_count": 15,
   "id": "1fc08ed5-c729-4dff-8ca7-84310819c3f9",
   "metadata": {},
   "outputs": [],
   "source": [
    "Requests = []\n",
    "tempr = 1\n",
    "for index, row in resp.iterrows():\n",
    "    #print(index)\n",
    "    scoring_prompt_resp = scoring_prompt+'\\n'+'RESPONSE:'+str(row[item])+'. ->'\n",
    "    Requests.append(\n",
    "        Request(\n",
    "            custom_id=\"item_\"+item+\"resp_\"+str(index),\n",
    "            params=MessageCreateParamsNonStreaming(\n",
    "            model=\"claude-3-7-sonnet-20250219\",\n",
    "            temperature=tempr,\n",
    "            max_tokens=1024,\n",
    "            system=role,\n",
    "            messages=[\n",
    "                            {\"role\": \"user\", \"content\": scoring_prompt_resp}]\n",
    "                )\n",
    "            )\n",
    "        )\n",
    "           "
   ]
  },
  {
   "cell_type": "code",
   "execution_count": 20,
   "id": "3f0c058d-c3b7-4986-85a6-b85781877c13",
   "metadata": {},
   "outputs": [],
   "source": [
    "Batch1 = cl_client.messages.batches.create(requests=Requests)\n",
    "Batch2 = cl_client.messages.batches.create(requests=Requests)\n",
    "Batch3 = cl_client.messages.batches.create(requests=Requests)\n",
    "Batch4 = cl_client.messages.batches.create(requests=Requests)\n",
    "Batch5 = cl_client.messages.batches.create(requests=Requests)"
   ]
  },
  {
   "cell_type": "code",
   "execution_count": 21,
   "id": "b49ee39e-9b03-4d77-a705-af5d60fde465",
   "metadata": {},
   "outputs": [],
   "source": [
    "Rrsspp1 = cl_client.messages.batches.results(Batch1.id)\n",
    "Rrsspp2 = cl_client.messages.batches.results(Batch2.id)\n",
    "Rrsspp3 = cl_client.messages.batches.results(Batch3.id)\n",
    "Rrsspp4 = cl_client.messages.batches.results(Batch4.id)\n",
    "Rrsspp5 = cl_client.messages.batches.results(Batch5.id)\n",
    "\n",
    "Output0 = [ot.to_dict()['result']['message']['content'][0]['text'] for ot in Rrsspp1]\n",
    "Output1 = [ot.to_dict()['result']['message']['content'][0]['text'] for ot in Rrsspp2]\n",
    "Output2 = [ot.to_dict()['result']['message']['content'][0]['text'] for ot in Rrsspp3]\n",
    "Output3 = [ot.to_dict()['result']['message']['content'][0]['text'] for ot in Rrsspp4]\n",
    "Output4 = [ot.to_dict()['result']['message']['content'][0]['text'] for ot in Rrsspp5]"
   ]
  },
  {
   "cell_type": "code",
   "execution_count": 22,
   "id": "c2bf6d06-21b8-413d-803e-baac302e745b",
   "metadata": {},
   "outputs": [],
   "source": [
    "scD_1 = pd.DataFrame({'output_0':Output0, 'output_1':Output1,'output_2':Output2,'output_3':Output3,'output_4':Output4})\n",
    "\n",
    "scD_1 = pd.concat([scD_1,scD_1.apply(lambda col: [extract_first_number(i) for i in col]).\\\n",
    "rename(columns=dict(zip(['output_'+str(i )for i in range(nrep)],['score_'+str(i )for i in range(nrep)])))], axis=1)\n",
    "\n",
    "scD_1['mode'] = scD_1.iloc[:,nrep:(2*nrep)].apply(find_mode,axis=1)\n",
    "\n",
    "scD_1.to_csv(path+'results/'+item+'_claude_tempr'+str(1)+'.csv')"
   ]
  },
  {
   "cell_type": "code",
   "execution_count": 9,
   "id": "d66226b4-48a1-4f7b-86c1-ba8b0b3c10f5",
   "metadata": {},
   "outputs": [
    {
     "name": "stdout",
     "output_type": "stream",
     "text": [
      "QWK: 0.23003110256539072\n",
      "              precision    recall  f1-score   support\n",
      "\n",
      "           0       0.91      0.17      0.29       240\n",
      "           1       0.39      0.66      0.49       189\n",
      "           2       0.14      0.37      0.20        38\n",
      "\n",
      "    accuracy                           0.39       467\n",
      "   macro avg       0.48      0.40      0.33       467\n",
      "weighted avg       0.64      0.39      0.37       467\n",
      "\n"
     ]
    }
   ],
   "source": [
    "scD_t1 = pd.concat([scD_1,resp.Final],axis=1).dropna()\n",
    "print(f\"QWK: {cohen_kappa_score(scD_t1['mode'],scD_t1['Final'],weights='quadratic')}\")\n",
    "print(classification_report(scD_t1['mode'],scD_t1['Final']))"
   ]
  }
 ],
 "metadata": {
  "kernelspec": {
   "display_name": "Python 3 (ipykernel)",
   "language": "python",
   "name": "python3"
  },
  "language_info": {
   "codemirror_mode": {
    "name": "ipython",
    "version": 3
   },
   "file_extension": ".py",
   "mimetype": "text/x-python",
   "name": "python",
   "nbconvert_exporter": "python",
   "pygments_lexer": "ipython3",
   "version": "3.12.9"
  }
 },
 "nbformat": 4,
 "nbformat_minor": 5
}
